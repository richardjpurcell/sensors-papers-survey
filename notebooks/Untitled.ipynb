{
 "cells": [
  {
   "cell_type": "code",
   "execution_count": null,
   "id": "2493fa50-38f4-4cdc-adaf-03d8baf902b9",
   "metadata": {},
   "outputs": [],
   "source": []
  }
 ],
 "metadata": {
  "kernelspec": {
   "display_name": "",
   "name": ""
  },
  "language_info": {
   "name": ""
  }
 },
 "nbformat": 4,
 "nbformat_minor": 5
}
